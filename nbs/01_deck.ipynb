{
 "cells": [
  {
   "cell_type": "code",
   "execution_count": null,
   "id": "889fdc13-bc81-40a9-9bce-304b4fd15fd8",
   "metadata": {},
   "outputs": [],
   "source": [
    "#| default_exp deck"
   ]
  },
  {
   "cell_type": "markdown",
   "id": "14726e87-0bcf-433c-84ad-df06fd106141",
   "metadata": {},
   "source": [
    "# deck\n",
    "    A deck of playing cards"
   ]
  },
  {
   "cell_type": "code",
   "execution_count": null,
   "id": "f4115a70-7bdf-4699-ab83-7aaa1279db1a",
   "metadata": {},
   "outputs": [],
   "source": [
    "#| hide\n",
    "#| export\n",
    "from nbdev_cards.cards import *"
   ]
  },
  {
   "cell_type": "code",
   "execution_count": null,
   "id": "f4a40da5-ad17-4768-829a-83ceb167fc07",
   "metadata": {},
   "outputs": [],
   "source": [
    "#| hide\n",
    "from nbdev.showdoc import *\n",
    "from fastcore.test import *\n",
    "from fastcore.utils import *"
   ]
  },
  {
   "cell_type": "code",
   "execution_count": null,
   "id": "b083ccfb-6ac7-452e-8664-6f9eacd67717",
   "metadata": {},
   "outputs": [],
   "source": [
    "#| export\n",
    "class Deck:\n",
    "    \"A deck of 52 cards, not including jokers\"\n",
    "    def __init__(self): self.cards = [Card(s,r) for s in range(4) for r in range(1,14)]\n",
    "    def __len__(self): return len(self.cards)\n",
    "    def __str__(self): return '; '.join(map(str,self.cards))\n",
    "    def __contains__(self,card): return card in self.cards\n",
    "    __repr__=__str__"
   ]
  },
  {
   "cell_type": "markdown",
   "id": "8d984889-12ad-4291-ad3b-1b8f3c3754e0",
   "metadata": {},
   "source": [
    "When we initially create a deck, all of the cards will be present:"
   ]
  },
  {
   "cell_type": "code",
   "execution_count": null,
   "id": "1ea5895b-9bd1-48b8-96ed-272acf25d5df",
   "metadata": {},
   "outputs": [
    {
     "data": {
      "text/plain": [
       "A♣️; 2♣️; 3♣️; 4♣️; 5♣️; 6♣️; 7♣️; 8♣️; 9♣️; 10♣️; J♣️; Q♣️; K♣️; A♠️; 2♠️; 3♠️; 4♠️; 5♠️; 6♠️; 7♠️; 8♠️; 9♠️; 10♠️; J♠️; Q♠️; K♠️; A♥️; 2♥️; 3♥️; 4♥️; 5♥️; 6♥️; 7♥️; 8♥️; 9♥️; 10♥️; J♥️; Q♥️; K♥️; A♦️; 2♦️; 3♦️; 4♦️; 5♦️; 6♦️; 7♦️; 8♦️; 9♦️; 10♦️; J♦️; Q♦️; K♦️"
      ]
     },
     "execution_count": null,
     "metadata": {},
     "output_type": "execute_result"
    }
   ],
   "source": [
    "deck = Deck()\n",
    "deck"
   ]
  },
  {
   "cell_type": "markdown",
   "id": "620947ae-3f68-4864-8882-54c576d1faac",
   "metadata": {},
   "source": [
    "That should be 52 cards"
   ]
  },
  {
   "cell_type": "code",
   "execution_count": null,
   "id": "f29bc969-4c56-4e9d-8b08-eb885122cd04",
   "metadata": {},
   "outputs": [],
   "source": [
    "test_eq(len(deck),52)"
   ]
  },
  {
   "cell_type": "code",
   "execution_count": null,
   "id": "4336bf53-56f6-4663-985e-c014db621285",
   "metadata": {},
   "outputs": [],
   "source": [
    "#| export\n",
    "@patch\n",
    "def pop(self:Deck,\n",
    "       idx:int=-1): #The index of the card to be removed, defaulting the last one\n",
    "    \"Remove one card from the deck\"\n",
    "    return self.cards.pop(idx)"
   ]
  },
  {
   "cell_type": "code",
   "execution_count": null,
   "id": "9ff4e0ef-d2c4-439c-a73f-5c2aaa1c6a3f",
   "metadata": {},
   "outputs": [],
   "source": [
    "deck = Deck()\n",
    "test_eq(deck.pop(), Card(3,13))"
   ]
  },
  {
   "cell_type": "code",
   "execution_count": null,
   "id": "8767514f-4251-4d76-9cdb-49b822f7addc",
   "metadata": {},
   "outputs": [],
   "source": [
    "#| hide\n",
    "import nbdev; nbdev.nbdev_export()"
   ]
  }
 ],
 "metadata": {
  "kernelspec": {
   "display_name": "python3",
   "language": "python",
   "name": "python3"
  }
 },
 "nbformat": 4,
 "nbformat_minor": 5
}
